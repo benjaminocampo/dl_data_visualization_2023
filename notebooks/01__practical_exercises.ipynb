{
 "cells": [
  {
   "cell_type": "markdown",
   "metadata": {
    "id": "LYvAOR2VzHmW"
   },
   "source": [
    "## Practical Exercises"
   ]
  },
  {
   "cell_type": "code",
   "execution_count": 1,
   "metadata": {
    "id": "Xwdfo7z20TUK"
   },
   "outputs": [],
   "source": [
    "import io\n",
    "import matplotlib\n",
    "import matplotlib.pyplot as plt\n",
    "import numpy\n",
    "import pandas as pd\n",
    "import seaborn\n",
    "\n",
    "seaborn.set_context('talk')"
   ]
  },
  {
   "cell_type": "markdown",
   "metadata": {
    "id": "XY2Hl-Ma07Nn"
   },
   "source": [
    "## Reading the dataset"
   ]
  },
  {
   "cell_type": "code",
   "execution_count": 2,
   "metadata": {
    "id": "Vviv_sqXdR5W"
   },
   "outputs": [],
   "source": [
    "url = 'https://www.famaf.unc.edu.ar/~nocampo043/sysarmy_survey_2020_processed.csv'\n",
    "df = pd.read_csv(url)"
   ]
  },
  {
   "cell_type": "code",
   "execution_count": 3,
   "metadata": {
    "colab": {
     "base_uri": "https://localhost:8080/",
     "height": 306
    },
    "id": "gckNHXXLktJ4",
    "outputId": "bebdfbfc-3794-47b5-d468-335031cfbb2e"
   },
   "outputs": [
    {
     "data": {
      "text/html": [
       "<div>\n",
       "<style scoped>\n",
       "    .dataframe tbody tr th:only-of-type {\n",
       "        vertical-align: middle;\n",
       "    }\n",
       "\n",
       "    .dataframe tbody tr th {\n",
       "        vertical-align: top;\n",
       "    }\n",
       "\n",
       "    .dataframe thead th {\n",
       "        text-align: right;\n",
       "    }\n",
       "</style>\n",
       "<table border=\"1\" class=\"dataframe\">\n",
       "  <thead>\n",
       "    <tr style=\"text-align: right;\">\n",
       "      <th></th>\n",
       "      <th>profile_gender</th>\n",
       "      <th>profile_age</th>\n",
       "      <th>work_country</th>\n",
       "      <th>work_province</th>\n",
       "      <th>profile_years_experience</th>\n",
       "      <th>work_years_in_company</th>\n",
       "      <th>work_years_in_current_position</th>\n",
       "      <th>work_people_in_charge_of</th>\n",
       "      <th>profile_studies_level</th>\n",
       "      <th>profile_studies_level_state</th>\n",
       "      <th>...</th>\n",
       "      <th>salary_has_bonus</th>\n",
       "      <th>salary_inflation_adjustment_2020</th>\n",
       "      <th>salary_percentage_inflation_adjustment_2020</th>\n",
       "      <th>salary_month_last_inflation_adjustment</th>\n",
       "      <th>work_has_violence_situations</th>\n",
       "      <th>profile_has_disabilities_hiring_difficulties</th>\n",
       "      <th>company_employee_number</th>\n",
       "      <th>company_main_activity</th>\n",
       "      <th>company_recommended</th>\n",
       "      <th>company_diversity_policies</th>\n",
       "    </tr>\n",
       "  </thead>\n",
       "  <tbody>\n",
       "    <tr>\n",
       "      <th>0</th>\n",
       "      <td>Female</td>\n",
       "      <td>26</td>\n",
       "      <td>Argentina</td>\n",
       "      <td>Ciudad Autónoma de Buenos Aires</td>\n",
       "      <td>3.0</td>\n",
       "      <td>3.0</td>\n",
       "      <td>3.0</td>\n",
       "      <td>0</td>\n",
       "      <td>University</td>\n",
       "      <td>Ongoing</td>\n",
       "      <td>...</td>\n",
       "      <td>No</td>\n",
       "      <td>No</td>\n",
       "      <td>0.0</td>\n",
       "      <td>0</td>\n",
       "      <td>In my current job</td>\n",
       "      <td>NaN</td>\n",
       "      <td>501-1000</td>\n",
       "      <td>Services / Software Consulting / Digital</td>\n",
       "      <td>7</td>\n",
       "      <td>2</td>\n",
       "    </tr>\n",
       "    <tr>\n",
       "      <th>1</th>\n",
       "      <td>Male</td>\n",
       "      <td>29</td>\n",
       "      <td>Argentina</td>\n",
       "      <td>Corrientes</td>\n",
       "      <td>5.0</td>\n",
       "      <td>2.0</td>\n",
       "      <td>2.0</td>\n",
       "      <td>4</td>\n",
       "      <td>University</td>\n",
       "      <td>Ongoing</td>\n",
       "      <td>...</td>\n",
       "      <td>Less than a salary</td>\n",
       "      <td>One</td>\n",
       "      <td>10.0</td>\n",
       "      <td>1</td>\n",
       "      <td>Never</td>\n",
       "      <td>No</td>\n",
       "      <td>201-500</td>\n",
       "      <td>Other industries</td>\n",
       "      <td>8</td>\n",
       "      <td>9</td>\n",
       "    </tr>\n",
       "    <tr>\n",
       "      <th>2</th>\n",
       "      <td>Female</td>\n",
       "      <td>22</td>\n",
       "      <td>Argentina</td>\n",
       "      <td>Ciudad Autónoma de Buenos Aires</td>\n",
       "      <td>2.0</td>\n",
       "      <td>0.0</td>\n",
       "      <td>0.0</td>\n",
       "      <td>0</td>\n",
       "      <td>Secondary</td>\n",
       "      <td>Complete</td>\n",
       "      <td>...</td>\n",
       "      <td>One salary</td>\n",
       "      <td>No</td>\n",
       "      <td>0.0</td>\n",
       "      <td>0</td>\n",
       "      <td>In a previous job</td>\n",
       "      <td>No</td>\n",
       "      <td>2001-5000</td>\n",
       "      <td>Other industries</td>\n",
       "      <td>6</td>\n",
       "      <td>9</td>\n",
       "    </tr>\n",
       "  </tbody>\n",
       "</table>\n",
       "<p>3 rows × 43 columns</p>\n",
       "</div>"
      ],
      "text/plain": [
       "  profile_gender  profile_age work_country                    work_province  \\\n",
       "0         Female           26    Argentina  Ciudad Autónoma de Buenos Aires   \n",
       "1           Male           29    Argentina                       Corrientes   \n",
       "2         Female           22    Argentina  Ciudad Autónoma de Buenos Aires   \n",
       "\n",
       "   profile_years_experience  work_years_in_company  \\\n",
       "0                       3.0                    3.0   \n",
       "1                       5.0                    2.0   \n",
       "2                       2.0                    0.0   \n",
       "\n",
       "   work_years_in_current_position  work_people_in_charge_of  \\\n",
       "0                             3.0                         0   \n",
       "1                             2.0                         4   \n",
       "2                             0.0                         0   \n",
       "\n",
       "  profile_studies_level profile_studies_level_state  ...    salary_has_bonus  \\\n",
       "0            University                     Ongoing  ...                  No   \n",
       "1            University                     Ongoing  ...  Less than a salary   \n",
       "2             Secondary                    Complete  ...          One salary   \n",
       "\n",
       "  salary_inflation_adjustment_2020  \\\n",
       "0                               No   \n",
       "1                              One   \n",
       "2                               No   \n",
       "\n",
       "  salary_percentage_inflation_adjustment_2020  \\\n",
       "0                                         0.0   \n",
       "1                                        10.0   \n",
       "2                                         0.0   \n",
       "\n",
       "  salary_month_last_inflation_adjustment work_has_violence_situations  \\\n",
       "0                                      0            In my current job   \n",
       "1                                      1                        Never   \n",
       "2                                      0            In a previous job   \n",
       "\n",
       "  profile_has_disabilities_hiring_difficulties company_employee_number  \\\n",
       "0                                          NaN                501-1000   \n",
       "1                                           No                 201-500   \n",
       "2                                           No               2001-5000   \n",
       "\n",
       "                      company_main_activity company_recommended  \\\n",
       "0  Services / Software Consulting / Digital                   7   \n",
       "1                          Other industries                   8   \n",
       "2                          Other industries                   6   \n",
       "\n",
       "  company_diversity_policies  \n",
       "0                          2  \n",
       "1                          9  \n",
       "2                          9  \n",
       "\n",
       "[3 rows x 43 columns]"
      ]
     },
     "execution_count": 3,
     "metadata": {},
     "output_type": "execute_result"
    }
   ],
   "source": [
    "df[:3]"
   ]
  },
  {
   "cell_type": "markdown",
   "metadata": {
    "id": "-ZSQYANFHHgV"
   },
   "source": [
    "# Exercise - Descriptive analysis\n",
    "\n",
    "Answer the question: **What programming languages are ​​associated with the best salaries?**\n",
    "\n",
    "For it:\n",
    "1. Select the relevant columns to `salary_monthly_NET`, `work_contract_type`, `tools_programming_language`, and `profile_studies_level`.\n",
    "2. Select the relevant rows to analyze. This includes removing extreme and erroneous values, but you can also focus the analysis on a sub-population. For example, they can be limited to people with a salary greater than 10,000 pesos or people who work only \"Full-Time\" or with a certain programming language, but you must justify your choice and reformulate the initial question if necessary.\n",
    "  * Get a list of the most popular programming languages. Then, decide how many and which ones to select to include in the analysis.\n",
    "3. Select metrics that help answer the question and methods to analyze them. Choose ONE of the following options:\n",
    "  * Compare salary distributions for each language using visualizations. As the visualization is the final product, it must be clear and show relevant information.\n",
    "  * Compare measures of descriptive statistics on salary distribution for each language. Be creative. Descriptive statistics allow us to say things like: \"Kotlin programmers mostly earn the top 10% of salaries!\" (where *majority* is a slippery middle ground that just means more than 50%). To compare multiple languages, we recommend using visualizations as well.\n",
    "  * Compare odds. For example: \"If you know Python or Java, you have a 30% more chance of winning over 100K\".\n",
    "\n",
    "If you consider it necessary, carry out several iterations. That is, if they find that the distributions of the programming languages ​​they initially selected are not very different, they can redo the analysis using only the programming languages ​​that are different."
   ]
  },
  {
   "cell_type": "code",
   "execution_count": 4,
   "metadata": {
    "id": "6dqTEr7cZgvl"
   },
   "outputs": [],
   "source": [
    "# complete here if you want to include more columns\n",
    "relevant_columns = ['tools_programming_languages',\n",
    "                    'salary_monthly_NET',\n",
    "                    'work_contract_type',\n",
    "                    'profile_studies_level']"
   ]
  },
  {
   "cell_type": "markdown",
   "metadata": {
    "id": "OoGgzMvuEocM"
   },
   "source": [
    "### Frequency count of programming languages\n",
    "\n",
    "The column that contains information about the programming languages used is `tools_programming_languages`. Its values are strings with the selected languages separated by commas."
   ]
  },
  {
   "cell_type": "code",
   "execution_count": 5,
   "metadata": {
    "colab": {
     "base_uri": "https://localhost:8080/"
    },
    "id": "J7AB2Ty8SvNl",
    "outputId": "2cdde3d9-cf1b-43f8-fcd7-0d979a8855c1"
   },
   "outputs": [
    {
     "data": {
      "text/plain": [
       "0                        None\n",
       "1    HTML, Javascript, Python\n",
       "2                        None\n",
       "Name: tools_programming_languages, dtype: object"
      ]
     },
     "execution_count": 5,
     "metadata": {},
     "output_type": "execute_result"
    }
   ],
   "source": [
    "df.tools_programming_languages[:3]"
   ]
  },
  {
   "cell_type": "markdown",
   "metadata": {
    "id": "l8bYmvMhSroH"
   },
   "source": [
    "The following code cells separate these programming languages and count how often they appear.\n",
    "\n",
    "It is not necessary to understand this code in depth, although it is a good exercise."
   ]
  },
  {
   "cell_type": "code",
   "execution_count": 6,
   "metadata": {
    "colab": {
     "base_uri": "https://localhost:8080/",
     "height": 337
    },
    "id": "PAQ81x3iUP_N",
    "outputId": "23f1811f-2364-4415-ad1a-1359ced501a7"
   },
   "outputs": [
    {
     "name": "stderr",
     "output_type": "stream",
     "text": [
      "/tmp/ipykernel_41944/3367783713.py:26: FutureWarning: The default dtype for empty Series will be 'object' instead of 'float64' in a future version. Specify a dtype explicitly to silence this warning.\n",
      "  .apply(pd.Series).stack()\\\n"
     ]
    },
    {
     "data": {
      "text/html": [
       "<div>\n",
       "<style scoped>\n",
       "    .dataframe tbody tr th:only-of-type {\n",
       "        vertical-align: middle;\n",
       "    }\n",
       "\n",
       "    .dataframe tbody tr th {\n",
       "        vertical-align: top;\n",
       "    }\n",
       "\n",
       "    .dataframe thead th {\n",
       "        text-align: right;\n",
       "    }\n",
       "</style>\n",
       "<table border=\"1\" class=\"dataframe\">\n",
       "  <thead>\n",
       "    <tr style=\"text-align: right;\">\n",
       "      <th></th>\n",
       "      <th>programming_language</th>\n",
       "      <th>tools_programming_languages</th>\n",
       "      <th>salary_monthly_NET</th>\n",
       "      <th>work_contract_type</th>\n",
       "      <th>profile_studies_level</th>\n",
       "      <th>cured_programming_languages</th>\n",
       "    </tr>\n",
       "  </thead>\n",
       "  <tbody>\n",
       "    <tr>\n",
       "      <th>1</th>\n",
       "      <td>html</td>\n",
       "      <td>HTML, Javascript, Python</td>\n",
       "      <td>63000.0</td>\n",
       "      <td>Full-Time</td>\n",
       "      <td>University</td>\n",
       "      <td>[html, javascript, python]</td>\n",
       "    </tr>\n",
       "    <tr>\n",
       "      <th>1</th>\n",
       "      <td>javascript</td>\n",
       "      <td>HTML, Javascript, Python</td>\n",
       "      <td>63000.0</td>\n",
       "      <td>Full-Time</td>\n",
       "      <td>University</td>\n",
       "      <td>[html, javascript, python]</td>\n",
       "    </tr>\n",
       "    <tr>\n",
       "      <th>1</th>\n",
       "      <td>python</td>\n",
       "      <td>HTML, Javascript, Python</td>\n",
       "      <td>63000.0</td>\n",
       "      <td>Full-Time</td>\n",
       "      <td>University</td>\n",
       "      <td>[html, javascript, python]</td>\n",
       "    </tr>\n",
       "    <tr>\n",
       "      <th>3</th>\n",
       "      <td>bash/shell</td>\n",
       "      <td>Bash/Shell, C, CSS, HTML, Java, Javascript, PH...</td>\n",
       "      <td>102000.0</td>\n",
       "      <td>Full-Time</td>\n",
       "      <td>Postgraduate</td>\n",
       "      <td>[bash/shell, c, css, html, java, javascript, p...</td>\n",
       "    </tr>\n",
       "    <tr>\n",
       "      <th>3</th>\n",
       "      <td>c</td>\n",
       "      <td>Bash/Shell, C, CSS, HTML, Java, Javascript, PH...</td>\n",
       "      <td>102000.0</td>\n",
       "      <td>Full-Time</td>\n",
       "      <td>Postgraduate</td>\n",
       "      <td>[bash/shell, c, css, html, java, javascript, p...</td>\n",
       "    </tr>\n",
       "  </tbody>\n",
       "</table>\n",
       "</div>"
      ],
      "text/plain": [
       "  programming_language                        tools_programming_languages  \\\n",
       "1                 html                           HTML, Javascript, Python   \n",
       "1           javascript                           HTML, Javascript, Python   \n",
       "1               python                           HTML, Javascript, Python   \n",
       "3           bash/shell  Bash/Shell, C, CSS, HTML, Java, Javascript, PH...   \n",
       "3                    c  Bash/Shell, C, CSS, HTML, Java, Javascript, PH...   \n",
       "\n",
       "   salary_monthly_NET work_contract_type profile_studies_level  \\\n",
       "1             63000.0          Full-Time            University   \n",
       "1             63000.0          Full-Time            University   \n",
       "1             63000.0          Full-Time            University   \n",
       "3            102000.0          Full-Time          Postgraduate   \n",
       "3            102000.0          Full-Time          Postgraduate   \n",
       "\n",
       "                         cured_programming_languages  \n",
       "1                         [html, javascript, python]  \n",
       "1                         [html, javascript, python]  \n",
       "1                         [html, javascript, python]  \n",
       "3  [bash/shell, c, css, html, java, javascript, p...  \n",
       "3  [bash/shell, c, css, html, java, javascript, p...  "
      ]
     },
     "execution_count": 6,
     "metadata": {},
     "output_type": "execute_result"
    }
   ],
   "source": [
    "# Convert the comma-separated string of languages to a list of string.\n",
    "# Remove 'None of the previous one' option, spaces and training commas.\n",
    "def split_languages(languages_str):\n",
    "  if not isinstance(languages_str, str):\n",
    "    return []\n",
    "  # Remove 'other' option\n",
    "  languages_str = languages_str.lower()\\\n",
    "    .replace('none of the previous one', '') \\\n",
    "    .replace('none', '')\n",
    "  # Split string into list of items\n",
    "  # Remove spaces and commas for each item\n",
    "  return [lang.strip().replace(',', '')\n",
    "          for lang in languages_str.split()]\n",
    "\n",
    "# Create a new column with the list of languages\n",
    "df.loc[:, 'cured_programming_languages'] = df.tools_programming_languages\\\n",
    "    .apply(split_languages)\n",
    "if 'cured_programming_languages' not in relevant_columns:\n",
    "    relevant_columns.append('cured_programming_languages') \n",
    "\n",
    "# Duplicate each row of df for each programming language\n",
    "# mentioned in the response.\n",
    "# We only include in df_lang the columns we are going to analyze later, so we\n",
    "# don't duplicate innecesary information.\n",
    "df_lang = df.cured_programming_languages\\\n",
    "    .apply(pd.Series).stack()\\\n",
    "    .reset_index(level=-1, drop=True).to_frame()\\\n",
    "    .join(df[relevant_columns])\\\n",
    "    .rename(columns={0: 'programming_language'})\n",
    "# Horrible programming style! But a lot of data science code can be written with\n",
    "# as concatenations of functions (pipelines), and there's no elegant way of\n",
    "# doing that on Python.\n",
    "df_lang[:5]"
   ]
  },
  {
   "cell_type": "markdown",
   "metadata": {
    "id": "qm8NUg-7UEue"
   },
   "source": [
    "In the `programming_language` column, you will find each language separately. Note that if a response contained 3 languages, such as `\"HTML, Javascript, Python\"`, the row has been replicated 3 times. Therefore, there are three rows with index 1."
   ]
  },
  {
   "cell_type": "markdown",
   "metadata": {
    "id": "nThbJ1KeUgDo"
   },
   "source": [
    "## Relevant language filtering\n",
    "\n",
    "The following code allows you to select only the rows where the value of the `programming_language` column is found in the `interesting_languages` list."
   ]
  },
  {
   "cell_type": "code",
   "execution_count": 8,
   "metadata": {
    "colab": {
     "base_uri": "https://localhost:8080/",
     "height": 711
    },
    "id": "DEpVptnLZUQU",
    "outputId": "8e181bb2-7e5c-442e-807c-97a2f6a66a8d"
   },
   "outputs": [
    {
     "data": {
      "text/html": [
       "<div>\n",
       "<style scoped>\n",
       "    .dataframe tbody tr th:only-of-type {\n",
       "        vertical-align: middle;\n",
       "    }\n",
       "\n",
       "    .dataframe tbody tr th {\n",
       "        vertical-align: top;\n",
       "    }\n",
       "\n",
       "    .dataframe thead th {\n",
       "        text-align: right;\n",
       "    }\n",
       "</style>\n",
       "<table border=\"1\" class=\"dataframe\">\n",
       "  <thead>\n",
       "    <tr style=\"text-align: right;\">\n",
       "      <th></th>\n",
       "      <th>programming_language</th>\n",
       "      <th>tools_programming_languages</th>\n",
       "      <th>salary_monthly_NET</th>\n",
       "      <th>work_contract_type</th>\n",
       "      <th>profile_studies_level</th>\n",
       "      <th>cured_programming_languages</th>\n",
       "    </tr>\n",
       "  </thead>\n",
       "  <tbody>\n",
       "    <tr>\n",
       "      <th>1</th>\n",
       "      <td>javascript</td>\n",
       "      <td>HTML, Javascript, Python</td>\n",
       "      <td>63000.0</td>\n",
       "      <td>Full-Time</td>\n",
       "      <td>University</td>\n",
       "      <td>[html, javascript, python]</td>\n",
       "    </tr>\n",
       "    <tr>\n",
       "      <th>1</th>\n",
       "      <td>python</td>\n",
       "      <td>HTML, Javascript, Python</td>\n",
       "      <td>63000.0</td>\n",
       "      <td>Full-Time</td>\n",
       "      <td>University</td>\n",
       "      <td>[html, javascript, python]</td>\n",
       "    </tr>\n",
       "    <tr>\n",
       "      <th>3</th>\n",
       "      <td>javascript</td>\n",
       "      <td>Bash/Shell, C, CSS, HTML, Java, Javascript, PH...</td>\n",
       "      <td>102000.0</td>\n",
       "      <td>Full-Time</td>\n",
       "      <td>Postgraduate</td>\n",
       "      <td>[bash/shell, c, css, html, java, javascript, p...</td>\n",
       "    </tr>\n",
       "    <tr>\n",
       "      <th>3</th>\n",
       "      <td>python</td>\n",
       "      <td>Bash/Shell, C, CSS, HTML, Java, Javascript, PH...</td>\n",
       "      <td>102000.0</td>\n",
       "      <td>Full-Time</td>\n",
       "      <td>Postgraduate</td>\n",
       "      <td>[bash/shell, c, css, html, java, javascript, p...</td>\n",
       "    </tr>\n",
       "    <tr>\n",
       "      <th>4</th>\n",
       "      <td>javascript</td>\n",
       "      <td>CSS, HTML, Javascript, SQL, TypeScript</td>\n",
       "      <td>106000.0</td>\n",
       "      <td>Full-Time</td>\n",
       "      <td>University</td>\n",
       "      <td>[css, html, javascript, sql, typescript]</td>\n",
       "    </tr>\n",
       "    <tr>\n",
       "      <th>...</th>\n",
       "      <td>...</td>\n",
       "      <td>...</td>\n",
       "      <td>...</td>\n",
       "      <td>...</td>\n",
       "      <td>...</td>\n",
       "      <td>...</td>\n",
       "    </tr>\n",
       "    <tr>\n",
       "      <th>6087</th>\n",
       "      <td>python</td>\n",
       "      <td>Python</td>\n",
       "      <td>120000.0</td>\n",
       "      <td>Full-Time</td>\n",
       "      <td>University</td>\n",
       "      <td>[python]</td>\n",
       "    </tr>\n",
       "    <tr>\n",
       "      <th>6089</th>\n",
       "      <td>python</td>\n",
       "      <td>Bash/Shell, Python, SQL</td>\n",
       "      <td>130000.0</td>\n",
       "      <td>Full-Time</td>\n",
       "      <td>University</td>\n",
       "      <td>[bash/shell, python, sql]</td>\n",
       "    </tr>\n",
       "    <tr>\n",
       "      <th>6090</th>\n",
       "      <td>javascript</td>\n",
       "      <td>.NET, C#, COBOL, CSS, HTML, Javascript, PHP, S...</td>\n",
       "      <td>97000.0</td>\n",
       "      <td>Full-Time</td>\n",
       "      <td>Terciary</td>\n",
       "      <td>[.net, c#, cobol, css, html, javascript, php, ...</td>\n",
       "    </tr>\n",
       "    <tr>\n",
       "      <th>6093</th>\n",
       "      <td>javascript</td>\n",
       "      <td>C, C++, HTML, Java, Javascript, PHP, Python, SQL</td>\n",
       "      <td>72.0</td>\n",
       "      <td>Full-Time</td>\n",
       "      <td>Terciary</td>\n",
       "      <td>[c, c++, html, java, javascript, php, python, ...</td>\n",
       "    </tr>\n",
       "    <tr>\n",
       "      <th>6093</th>\n",
       "      <td>python</td>\n",
       "      <td>C, C++, HTML, Java, Javascript, PHP, Python, SQL</td>\n",
       "      <td>72.0</td>\n",
       "      <td>Full-Time</td>\n",
       "      <td>Terciary</td>\n",
       "      <td>[c, c++, html, java, javascript, php, python, ...</td>\n",
       "    </tr>\n",
       "  </tbody>\n",
       "</table>\n",
       "<p>3988 rows × 6 columns</p>\n",
       "</div>"
      ],
      "text/plain": [
       "     programming_language                        tools_programming_languages  \\\n",
       "1              javascript                           HTML, Javascript, Python   \n",
       "1                  python                           HTML, Javascript, Python   \n",
       "3              javascript  Bash/Shell, C, CSS, HTML, Java, Javascript, PH...   \n",
       "3                  python  Bash/Shell, C, CSS, HTML, Java, Javascript, PH...   \n",
       "4              javascript             CSS, HTML, Javascript, SQL, TypeScript   \n",
       "...                   ...                                                ...   \n",
       "6087               python                                             Python   \n",
       "6089               python                            Bash/Shell, Python, SQL   \n",
       "6090           javascript  .NET, C#, COBOL, CSS, HTML, Javascript, PHP, S...   \n",
       "6093           javascript   C, C++, HTML, Java, Javascript, PHP, Python, SQL   \n",
       "6093               python   C, C++, HTML, Java, Javascript, PHP, Python, SQL   \n",
       "\n",
       "      salary_monthly_NET work_contract_type profile_studies_level  \\\n",
       "1                63000.0          Full-Time            University   \n",
       "1                63000.0          Full-Time            University   \n",
       "3               102000.0          Full-Time          Postgraduate   \n",
       "3               102000.0          Full-Time          Postgraduate   \n",
       "4               106000.0          Full-Time            University   \n",
       "...                  ...                ...                   ...   \n",
       "6087            120000.0          Full-Time            University   \n",
       "6089            130000.0          Full-Time            University   \n",
       "6090             97000.0          Full-Time              Terciary   \n",
       "6093                72.0          Full-Time              Terciary   \n",
       "6093                72.0          Full-Time              Terciary   \n",
       "\n",
       "                            cured_programming_languages  \n",
       "1                            [html, javascript, python]  \n",
       "1                            [html, javascript, python]  \n",
       "3     [bash/shell, c, css, html, java, javascript, p...  \n",
       "3     [bash/shell, c, css, html, java, javascript, p...  \n",
       "4              [css, html, javascript, sql, typescript]  \n",
       "...                                                 ...  \n",
       "6087                                           [python]  \n",
       "6089                          [bash/shell, python, sql]  \n",
       "6090  [.net, c#, cobol, css, html, javascript, php, ...  \n",
       "6093  [c, c++, html, java, javascript, php, python, ...  \n",
       "6093  [c, c++, html, java, javascript, php, python, ...  \n",
       "\n",
       "[3988 rows x 6 columns]"
      ]
     },
     "execution_count": 8,
     "metadata": {},
     "output_type": "execute_result"
    }
   ],
   "source": [
    "# Filter out languages that we want to exclude\n",
    "# Complete here with your selected list.\n",
    "interesting_languages = [\"python\", \"javascript\"]\n",
    "filtered_df_lang = df_lang[df_lang.programming_language.isin(interesting_languages)]\n",
    "filtered_df_lang"
   ]
  }
 ],
 "metadata": {
  "colab": {
   "collapsed_sections": [],
   "name": "01__practical_exercises.ipynb",
   "provenance": []
  },
  "kernelspec": {
   "display_name": "Python 3 (ipykernel)",
   "language": "python",
   "name": "python3"
  },
  "language_info": {
   "codemirror_mode": {
    "name": "ipython",
    "version": 3
   },
   "file_extension": ".py",
   "mimetype": "text/x-python",
   "name": "python",
   "nbconvert_exporter": "python",
   "pygments_lexer": "ipython3",
   "version": "3.10.4"
  }
 },
 "nbformat": 4,
 "nbformat_minor": 1
}
