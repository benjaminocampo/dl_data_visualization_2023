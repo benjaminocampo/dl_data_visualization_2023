{
 "cells": [
  {
   "cell_type": "code",
   "execution_count": 1,
   "metadata": {},
   "outputs": [],
   "source": [
    "\n",
    "import matplotlib.pyplot as plt\n",
    "import pandas as pd\n",
    "import seaborn\n",
    "\n",
    "seaborn.set_context('talk')"
   ]
  },
  {
   "cell_type": "code",
   "execution_count": 2,
   "metadata": {},
   "outputs": [],
   "source": [
    "url = 'https://www.famaf.unc.edu.ar/~nocampo043/sysarmy_survey_2020_processed.csv'\n",
    "df = pd.read_csv(url)"
   ]
  },
  {
   "cell_type": "markdown",
   "metadata": {},
   "source": [
    "Is the work_contract_type important in the salary?\n",
    "\n",
    "- Plot an scatterplot comparing the salary_monthly_NET and the salary_monthly_GROSS painting with two different colors points that have a Full-time contract and those with a Part-Time contract.\n",
    "\n",
    "- Plot two boxplots comparing the salary_monthly_NET of Full-time and Part-time devs\n",
    "\n",
    "Can we say that people having ages between 18 to 30 only work on the dev field?\n",
    "\n",
    "- Take the column profile_age and create intervals of length 10 between 18 and 58. Then create a barplot where the x axis correspond to these intervals and y axis the frequency. Add a hue comparing Full-time and Part-time positions.\n",
    "\n",
    "- Replicate your plots using plotly.\n"
   ]
  }
 ],
 "metadata": {
  "interpreter": {
   "hash": "4f124edc0ade743c85690c7324df6e37a551635b56947f2d8b25addb0dfe1a8f"
  },
  "kernelspec": {
   "display_name": "Python 3.10.4 ('sald')",
   "language": "python",
   "name": "python3"
  },
  "language_info": {
   "codemirror_mode": {
    "name": "ipython",
    "version": 3
   },
   "file_extension": ".py",
   "mimetype": "text/x-python",
   "name": "python",
   "nbconvert_exporter": "python",
   "pygments_lexer": "ipython3",
   "version": "3.10.8"
  },
  "orig_nbformat": 4
 },
 "nbformat": 4,
 "nbformat_minor": 2
}
